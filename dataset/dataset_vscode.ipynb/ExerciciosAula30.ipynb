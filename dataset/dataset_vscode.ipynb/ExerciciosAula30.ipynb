{
 "cells": [
  {
   "cell_type": "code",
   "execution_count": 2,
   "metadata": {},
   "outputs": [],
   "source": [
    "import pandas as pd\n",
    "\n",
    "\n",
    "\n",
    "\n"
   ]
  },
  {
   "cell_type": "code",
   "execution_count": 3,
   "metadata": {},
   "outputs": [],
   "source": [
    "df = pd.read_csv('/Users/derekaugusto/Desktop/comunidade ds/Repos/ftc_python/dataset/train.csv')\n"
   ]
  },
  {
   "cell_type": "code",
   "execution_count": 12,
   "metadata": {},
   "outputs": [],
   "source": [
    "#Limpeza dos dados\n",
    "#Limpeza da tabela ID 'Delivery_person_Age'\n",
    "df = df.dropna()\n",
    "df['ID'] = df['ID'].str.strip()\n",
    "df['Delivery_person_Age'] = df['Delivery_person_Age'].str.strip()\n",
    "\n",
    "\n"
   ]
  },
  {
   "cell_type": "code",
   "execution_count": 19,
   "metadata": {},
   "outputs": [],
   "source": [
    "linhas_filtradas = (df['Delivery_person_Age'] != 'NaN')\n",
    "df1 = df.loc[linhas_filtradas, :].copy()"
   ]
  },
  {
   "cell_type": "code",
   "execution_count": null,
   "metadata": {},
   "outputs": [],
   "source": []
  },
  {
   "cell_type": "code",
   "execution_count": 8,
   "metadata": {},
   "outputs": [
    {
     "name": "stdout",
     "output_type": "stream",
     "text": [
      "Entregados unicos 1320\n"
     ]
    }
   ],
   "source": [
    "#2\n",
    "ID = len(df['Delivery_person_ID'].unique())\n",
    "print('Entregados unicos',ID)\n"
   ]
  },
  {
   "cell_type": "code",
   "execution_count": 9,
   "metadata": {},
   "outputs": [
    {
     "name": "stdout",
     "output_type": "stream",
     "text": [
      "Entregadores cadastrados 45593\n"
     ]
    }
   ],
   "source": [
    "#1\n",
    "ID = df['Delivery_person_ID']\n",
    "\n",
    "print('Entregadores cadastrados',len(ID))\n"
   ]
  },
  {
   "cell_type": "code",
   "execution_count": 22,
   "metadata": {},
   "outputs": [
    {
     "name": "stdout",
     "output_type": "stream",
     "text": [
      "Menor idade é: 15\n",
      "Menor idade é: 50\n"
     ]
    }
   ],
   "source": [
    "#3\n",
    "menor_idade=df1['Delivery_person_Age']\n",
    "\n",
    "print('Menor idade é:',min(menor_idade))\n",
    "print('Menor idade é:',max(menor_idade))\n",
    "\n"
   ]
  },
  {
   "cell_type": "code",
   "execution_count": 34,
   "metadata": {},
   "outputs": [
    {
     "name": "stdout",
     "output_type": "stream",
     "text": [
      "Menor idade é: 15 E o ID: 0x564\n",
      "Maior idade é: 50 E o ID: 0x46d\n"
     ]
    }
   ],
   "source": [
    "#4\n",
    "menor_idade=df1['Delivery_person_Age'].min()\n",
    "maior_idade=df1['Delivery_person_Age'].max()\n",
    "\n",
    "id_max = df1.loc[df1['Delivery_person_Age']==maior_idade,'ID'].iloc[0]            \n",
    "id_min = df1.loc[df1['Delivery_person_Age']==menor_idade,'ID'].iloc[0]\n",
    "\n",
    "print('Menor idade é:',menor_idade,'E o ID:',id_min)\n",
    "print('Maior idade é:',maior_idade,'E o ID:',id_max)\n"
   ]
  },
  {
   "cell_type": "code",
   "execution_count": 47,
   "metadata": {},
   "outputs": [
    {
     "name": "stdout",
     "output_type": "stream",
     "text": [
      "['conditions Sunny' 'conditions Stormy' 'conditions Sandstorms'\n",
      " 'conditions Cloudy' 'conditions Fog' 'conditions Windy']\n"
     ]
    }
   ],
   "source": [
    "filtro = (df['Weatherconditions'] != 'conditions NaN')\n",
    "df1 = df.loc[filtro,:].copy()\n",
    "print(df1['Weatherconditions'].unique())"
   ]
  },
  {
   "cell_type": "code",
   "execution_count": 52,
   "metadata": {},
   "outputs": [
    {
     "name": "stdout",
     "output_type": "stream",
     "text": [
      "Foram feitas, 7495  entregas nas condições Sandstorm\n"
     ]
    }
   ],
   "source": [
    "filtro = (df['Weatherconditions'] == 'conditions Sandstorms')\n",
    "entrega = filtro.sum()\n",
    "print('Foram feitas,',entrega, ' entregas nas condições Sandstorm')"
   ]
  },
  {
   "cell_type": "code",
   "execution_count": 58,
   "metadata": {},
   "outputs": [
    {
     "name": "stdout",
     "output_type": "stream",
     "text": [
      "conditions Sandstorms\n"
     ]
    }
   ],
   "source": [
    "data = df1['Order_Date'].max()\n",
    "cond = df1.loc[df1['Order_Date']== data,'Weatherconditions'].iloc[0]\n",
    "\n",
    "print(cond)"
   ]
  },
  {
   "cell_type": "code",
   "execution_count": 67,
   "metadata": {},
   "outputs": [
    {
     "name": "stdout",
     "output_type": "stream",
     "text": [
      "Quantidade de densidade de transito:15469E os nomes são: Low \n",
      "Quantidade de densidade de transito:14140E os nomes são: Jam \n",
      "Quantidade de densidade de transito:10944E os nomes são: Medium \n",
      "Quantidade de densidade de transito:4424E os nomes são: High \n"
     ]
    }
   ],
   "source": [
    "df1 = df1.reset_index(drop=True)\n",
    "\n",
    "qtd = df1['Road_traffic_density'].value_counts()\n",
    "\n",
    "for densidade, quantidade in qtd.items():\n",
    "\n",
    " print(f'Quantidade de densidade de transito:{quantidade}E os nomes são: {densidade}')"
   ]
  },
  {
   "cell_type": "code",
   "execution_count": 72,
   "metadata": {},
   "outputs": [
    {
     "name": "stdout",
     "output_type": "stream",
     "text": [
      "Foram feitas 7284 entregas em Sunny, 7586 em Stormy, 7495 em Sandstorms, 7536 em Cloudy, 7654 em Fog, 7422 em Windy\n"
     ]
    }
   ],
   "source": [
    "d1 = (df1['Weatherconditions'] == 'conditions Sunny').sum()\n",
    "d2 = (df1['Weatherconditions'] == 'conditions Stormy').sum()\n",
    "d3 = (df1['Weatherconditions'] == 'conditions Sandstorms').sum()\n",
    "d4 = (df1['Weatherconditions'] == 'conditions Cloudy').sum()\n",
    "d5 = (df1['Weatherconditions'] == 'conditions Fog').sum()\n",
    "d6 = (df1['Weatherconditions'] == 'conditions Windy').sum()\n",
    "\n",
    "\n",
    "print(f'Foram feitas {d1} entregas em Sunny, {d2} em Stormy, {d3} em Sandstorms, {d4} em Cloudy, {d5} em Fog, {d6} em Windy')"
   ]
  },
  {
   "cell_type": "code",
   "execution_count": null,
   "metadata": {},
   "outputs": [],
   "source": [
    "\n"
   ]
  },
  {
   "cell_type": "code",
   "execution_count": 74,
   "metadata": {},
   "outputs": [
    {
     "name": "stdout",
     "output_type": "stream",
     "text": [
      "Weatherconditions\n",
      "conditions Cloudy        1253\n",
      "conditions Fog           1261\n",
      "conditions Sandstorms    1248\n",
      "conditions Stormy        1239\n",
      "conditions Sunny         1242\n",
      "conditions Windy         1237\n",
      "Name: Delivery_person_ID, dtype: int64\n"
     ]
    }
   ],
   "source": [
    "cont_ent = df1.groupby('Weatherconditions')['Delivery_person_ID'].nunique()\n",
    "\n",
    "print(cont_ent)"
   ]
  },
  {
   "cell_type": "code",
   "execution_count": 86,
   "metadata": {},
   "outputs": [
    {
     "name": "stdout",
     "output_type": "stream",
     "text": [
      "14140\n"
     ]
    }
   ],
   "source": [
    "#11\n",
    "d1 = (df1['Road_traffic_density'].str.strip() == 'Jam').sum()\n",
    "print(d1)\n"
   ]
  },
  {
   "cell_type": "code",
   "execution_count": 106,
   "metadata": {},
   "outputs": [
    {
     "name": "stdout",
     "output_type": "stream",
     "text": [
      "Road_traffic_density\n",
      "High        795\n",
      "Jam        1308\n",
      "Low        1311\n",
      "Medium     1293\n",
      "NaN         456\n",
      "Name: Delivery_person_ID, dtype: int64\n"
     ]
    }
   ],
   "source": [
    "#12\n",
    "df2 = df.groupby('Road_traffic_density')['Delivery_person_ID'].nunique()\n",
    "\n",
    "print(df2)"
   ]
  },
  {
   "cell_type": "code",
   "execution_count": 149,
   "metadata": {},
   "outputs": [
    {
     "name": "stdout",
     "output_type": "stream",
     "text": [
      "['Urban ' 'Metropolitian ' 'Semi-Urban ' 'NaN '] 4\n"
     ]
    }
   ],
   "source": [
    "qtd = df['City'].unique()\n",
    "name = df['City'].nunique()\n",
    "print(qtd,name)"
   ]
  },
  {
   "cell_type": "code",
   "execution_count": 150,
   "metadata": {},
   "outputs": [
    {
     "name": "stdout",
     "output_type": "stream",
     "text": [
      "['motorcycle ' 'scooter ' 'electric_scooter ' 'bicycle ']\n"
     ]
    }
   ],
   "source": [
    "#14\n",
    "print(df['Type_of_vehicle'].unique())"
   ]
  },
  {
   "cell_type": "code",
   "execution_count": 168,
   "metadata": {},
   "outputs": [
    {
     "name": "stdout",
     "output_type": "stream",
     "text": [
      "Series([], Name: Type_of_vehicle, dtype: int64)\n"
     ]
    }
   ],
   "source": [
    "#15\n",
    "cont = df.loc[df['Road_traffic_density'].astype(str)== 'High','Type_of_vehicle'].value_counts()\n",
    "print(cont)"
   ]
  },
  {
   "cell_type": "code",
   "execution_count": 16,
   "metadata": {},
   "outputs": [
    {
     "name": "stdout",
     "output_type": "stream",
     "text": [
      "Road_traffic_density  Road_traffic_density\n",
      "High                  High                     4425\n",
      "Jam                   Jam                     14143\n",
      "Low                   Low                     15477\n",
      "Medium                Medium                  10947\n",
      "NaN                   NaN                       601\n",
      "Name: Road_traffic_density, dtype: int64\n"
     ]
    }
   ],
   "source": [
    "#11\n",
    "cont_entr = df.groupby('Road_traffic_density')['Road_traffic_density'].value_counts()\n",
    "print(cont_entr)"
   ]
  },
  {
   "cell_type": "code",
   "execution_count": 20,
   "metadata": {},
   "outputs": [
    {
     "name": "stdout",
     "output_type": "stream",
     "text": [
      "Meal  -> 1927\n"
     ]
    }
   ],
   "source": [
    "pedidos = list(df['Type_of_order'].unique())\n",
    "total_pedido = 0\n",
    "tipo_pedido = ''\n",
    "\n",
    "for pedido in pedidos:\n",
    "    filtro = (df['Type_of_order'] == pedido) & (df['Weatherconditions'] =='conditions Sandstorms')\n",
    "\n",
    "    df2 = df.loc[filtro, : ].shape[0]    \n",
    "\n",
    "if df2 > total_pedido:\n",
    "    total_pedido = df2\n",
    "    tipo_pedido = pedido\n",
    "\n",
    "print(f'{tipo_pedido} -> {total_pedido}')\n",
    "    "
   ]
  },
  {
   "cell_type": "code",
   "execution_count": 28,
   "metadata": {},
   "outputs": [
    {
     "name": "stdout",
     "output_type": "stream",
     "text": [
      "Semi-Urban  com 34\n"
     ]
    }
   ],
   "source": [
    "\n",
    "\n",
    "filtro_cidade = list(df['City'].unique())\n",
    "total_pedido = 0\n",
    "cidade_maior = ''\n",
    "\n",
    "for cidade in filtro_cidade:\n",
    "    filtro = (df['City'] == cidade) & (df['Type_of_order'] == 'Drinks ')\n",
    "\n",
    "    df1 = df.loc[filtro, :].shape[0]\n",
    "\n",
    "if df1 > total_pedido:\n",
    "    total_pedido = df1\n",
    "    cidade_maior = cidade\n",
    "\n",
    "print(f'{cidade_maior} com {total_pedido}')\n"
   ]
  },
  {
   "cell_type": "code",
   "execution_count": 30,
   "metadata": {},
   "outputs": [],
   "source": [
    "NaN = (df['City'] != 'NaN ') & (df['Delivery_person_Age'] != 'NaN ')\n",
    "df= df.loc[NaN, :].copy()"
   ]
  },
  {
   "cell_type": "code",
   "execution_count": 49,
   "metadata": {},
   "outputs": [
    {
     "name": "stdout",
     "output_type": "stream",
     "text": [
      "A cidade com o entregador de maior idade é:  Urban \n",
      "A cidade com o entregador de menor idade é:  Urban \n"
     ]
    }
   ],
   "source": [
    "menor_idade = df['Delivery_person_Age'].min()\n",
    "maior_idade = df['Delivery_person_Age'].max()\n",
    "\n",
    "\n",
    "cidade_menor = df.loc[df['Delivery_person_Age'] == menor_idade,'City'].values[0]\n",
    "cidade_maior = df.loc[df['Delivery_person_Age'] == maior_idade,'City'].values[0]\n",
    "\n",
    "\n",
    "\n",
    "\n",
    "print('A cidade com o entregador de maior idade é: ',cidade_maior)\n",
    "print('A cidade com o entregador de menor idade é: ',cidade_menor)\n",
    "\n"
   ]
  },
  {
   "cell_type": "code",
   "execution_count": 59,
   "metadata": {},
   "outputs": [
    {
     "name": "stdout",
     "output_type": "stream",
     "text": [
      "['Urban ' 'Metropolitian ' 'Semi-Urban ']\n"
     ]
    }
   ],
   "source": [
    "#fest = df['Festival'] == 'Yes '\n",
    "\n",
    "df1 = df.loc[df['Festival'] == 'Yes ','City'].unique()\n",
    "\n",
    "\n",
    "print(df1)"
   ]
  },
  {
   "cell_type": "code",
   "execution_count": null,
   "metadata": {},
   "outputs": [],
   "source": []
  },
  {
   "cell_type": "code",
   "execution_count": 57,
   "metadata": {},
   "outputs": [
    {
     "name": "stdout",
     "output_type": "stream",
     "text": [
      "Houve 841 de entregas no festival\n"
     ]
    }
   ],
   "source": [
    "fest = df['Festival'] == 'Yes '\n",
    "\n",
    "qtd = sum(fest)\n",
    "\n",
    "print(f'Houve {qtd} de entregas no festival')\n",
    "\n"
   ]
  },
  {
   "cell_type": "code",
   "execution_count": 62,
   "metadata": {},
   "outputs": [
    {
     "name": "stdout",
     "output_type": "stream",
     "text": [
      "109\n"
     ]
    }
   ],
   "source": [
    "\n",
    "urban = (df['City'] == 'Urban ') & (df['Festival'] == 'Yes ')\n",
    "\n",
    "print(sum(urban))\n"
   ]
  },
  {
   "cell_type": "code",
   "execution_count": null,
   "metadata": {},
   "outputs": [],
   "source": []
  }
 ],
 "metadata": {
  "kernelspec": {
   "display_name": "base",
   "language": "python",
   "name": "python3"
  },
  "language_info": {
   "codemirror_mode": {
    "name": "ipython",
    "version": 3
   },
   "file_extension": ".py",
   "mimetype": "text/x-python",
   "name": "python",
   "nbconvert_exporter": "python",
   "pygments_lexer": "ipython3",
   "version": "3.9.13"
  },
  "orig_nbformat": 4
 },
 "nbformat": 4,
 "nbformat_minor": 2
}
