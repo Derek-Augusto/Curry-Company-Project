{
  "nbformat": 4,
  "nbformat_minor": 0,
  "metadata": {
    "colab": {
      "provenance": []
    },
    "kernelspec": {
      "name": "python3",
      "display_name": "Python 3"
    },
    "language_info": {
      "name": "python"
    }
  },
  "cells": [
    {
      "cell_type": "code",
      "execution_count": 12,
      "metadata": {
        "id": "vfEaT8kLeBRJ"
      },
      "outputs": [],
      "source": [
        "df = pd.read_csv('train.csv')"
      ]
    },
    {
      "cell_type": "code",
      "source": [
        "print(df)"
      ],
      "metadata": {
        "colab": {
          "base_uri": "https://localhost:8080/"
        },
        "id": "Y9FqHFxnVCeJ",
        "outputId": "ad88bd12-33af-441b-e819-c51bb95fc5e5"
      },
      "execution_count": 16,
      "outputs": [
        {
          "output_type": "stream",
          "name": "stdout",
          "text": [
            "            ID Delivery_person_ID Delivery_person_Age Delivery_person_Ratings  \\\n",
            "0      0x4607     INDORES13DEL02                   37                     4.9   \n",
            "1      0xb379     BANGRES18DEL02                   34                     4.5   \n",
            "2      0x5d6d     BANGRES19DEL01                   23                     4.4   \n",
            "3      0x7a6a    COIMBRES13DEL02                   38                     4.7   \n",
            "4      0x70a2     CHENRES12DEL01                   32                     4.6   \n",
            "...        ...                ...                 ...                     ...   \n",
            "45588  0x7c09      JAPRES04DEL01                   30                     4.8   \n",
            "45589  0xd641      AGRRES16DEL01                   21                     4.6   \n",
            "45590  0x4f8d     CHENRES08DEL03                   30                     4.9   \n",
            "45591  0x5eee    COIMBRES11DEL01                   20                     4.7   \n",
            "45592  0x5fb2   RANCHIRES09DEL02                   23                     4.9   \n",
            "\n",
            "       Restaurant_latitude  Restaurant_longitude  Delivery_location_latitude  \\\n",
            "0                22.745049             75.892471                   22.765049   \n",
            "1                12.913041             77.683237                   13.043041   \n",
            "2                12.914264             77.678400                   12.924264   \n",
            "3                11.003669             76.976494                   11.053669   \n",
            "4                12.972793             80.249982                   13.012793   \n",
            "...                    ...                   ...                         ...   \n",
            "45588            26.902328             75.794257                   26.912328   \n",
            "45589             0.000000              0.000000                    0.070000   \n",
            "45590            13.022394             80.242439                   13.052394   \n",
            "45591            11.001753             76.986241                   11.041753   \n",
            "45592            23.351058             85.325731                   23.431058   \n",
            "\n",
            "       Delivery_location_longitude  Order_Date Time_Orderd Time_Order_picked  \\\n",
            "0                        75.912471  19-03-2022    11:30:00          11:45:00   \n",
            "1                        77.813237  25-03-2022    19:45:00          19:50:00   \n",
            "2                        77.688400  19-03-2022    08:30:00          08:45:00   \n",
            "3                        77.026494  05-04-2022    18:00:00          18:10:00   \n",
            "4                        80.289982  26-03-2022    13:30:00          13:45:00   \n",
            "...                            ...         ...         ...               ...   \n",
            "45588                    75.804257  24-03-2022    11:35:00          11:45:00   \n",
            "45589                     0.070000  16-02-2022    19:55:00          20:10:00   \n",
            "45590                    80.272439  11-03-2022    23:50:00          00:05:00   \n",
            "45591                    77.026241  07-03-2022    13:35:00          13:40:00   \n",
            "45592                    85.405731  02-03-2022    17:10:00          17:15:00   \n",
            "\n",
            "           Weatherconditions Road_traffic_density  Vehicle_condition  \\\n",
            "0           conditions Sunny                High                   2   \n",
            "1          conditions Stormy                 Jam                   2   \n",
            "2      conditions Sandstorms                 Low                   0   \n",
            "3           conditions Sunny              Medium                   0   \n",
            "4          conditions Cloudy                High                   1   \n",
            "...                      ...                  ...                ...   \n",
            "45588       conditions Windy                High                   1   \n",
            "45589       conditions Windy                 Jam                   0   \n",
            "45590      conditions Cloudy                 Low                   1   \n",
            "45591      conditions Cloudy                High                   0   \n",
            "45592         conditions Fog              Medium                   2   \n",
            "\n",
            "      Type_of_order Type_of_vehicle multiple_deliveries Festival  \\\n",
            "0            Snack      motorcycle                    0      No    \n",
            "1            Snack         scooter                    1      No    \n",
            "2           Drinks      motorcycle                    1      No    \n",
            "3           Buffet      motorcycle                    1      No    \n",
            "4            Snack         scooter                    1      No    \n",
            "...             ...             ...                 ...      ...   \n",
            "45588         Meal      motorcycle                    0      No    \n",
            "45589       Buffet      motorcycle                    1      No    \n",
            "45590       Drinks         scooter                    0      No    \n",
            "45591        Snack      motorcycle                    1      No    \n",
            "45592        Snack         scooter                    1      No    \n",
            "\n",
            "                 City Time_taken(min)  \n",
            "0              Urban         (min) 24  \n",
            "1      Metropolitian         (min) 33  \n",
            "2              Urban         (min) 26  \n",
            "3      Metropolitian         (min) 21  \n",
            "4      Metropolitian         (min) 30  \n",
            "...               ...             ...  \n",
            "45588  Metropolitian         (min) 32  \n",
            "45589  Metropolitian         (min) 36  \n",
            "45590  Metropolitian         (min) 16  \n",
            "45591  Metropolitian         (min) 26  \n",
            "45592  Metropolitian         (min) 36  \n",
            "\n",
            "[45593 rows x 20 columns]\n"
          ]
        }
      ]
    },
    {
      "cell_type": "code",
      "source": [
        "df.iloc[0:21,0:3]"
      ],
      "metadata": {
        "colab": {
          "base_uri": "https://localhost:8080/",
          "height": 700
        },
        "id": "aBcUaDt-kI0C",
        "outputId": "d2611544-79e6-4e54-bd12-837edf82b3f4"
      },
      "execution_count": null,
      "outputs": [
        {
          "output_type": "execute_result",
          "data": {
            "text/plain": [
              "         ID Delivery_person_ID Delivery_person_Age\n",
              "0   0x4607     INDORES13DEL02                   37\n",
              "1   0xb379     BANGRES18DEL02                   34\n",
              "2   0x5d6d     BANGRES19DEL01                   23\n",
              "3   0x7a6a    COIMBRES13DEL02                   38\n",
              "4   0x70a2     CHENRES12DEL01                   32\n",
              "5   0x9bb4      HYDRES09DEL03                   22\n",
              "6   0x95b4   RANCHIRES15DEL01                   33\n",
              "7   0x9eb2      MYSRES15DEL02                   35\n",
              "8   0x1102      HYDRES05DEL02                   22\n",
              "9   0xcdcd      DEHRES17DEL01                   36\n",
              "10  0xd987      KOCRES16DEL01                   21\n",
              "11  0x2784     PUNERES13DEL03                   23\n",
              "12  0xc8b6     LUDHRES15DEL02                   34\n",
              "13  0xdb64      KNPRES14DEL02                   24\n",
              "14  0x3af3      MUMRES15DEL03                   29\n",
              "15  0x3aab      MYSRES01DEL01                   35\n",
              "16  0x689b     PUNERES20DEL01                   33\n",
              "17  0x6f67      HYDRES14DEL01                   34\n",
              "18  0xc9cf      KOLRES15DEL03                   21\n",
              "19  0x36b8     PUNERES19DEL02                   25\n",
              "20  0x5795   RANCHIRES06DEL02                   31"
            ],
            "text/html": [
              "\n",
              "  <div id=\"df-52ec6e75-2b8e-48f0-974c-40cf091a60d6\">\n",
              "    <div class=\"colab-df-container\">\n",
              "      <div>\n",
              "<style scoped>\n",
              "    .dataframe tbody tr th:only-of-type {\n",
              "        vertical-align: middle;\n",
              "    }\n",
              "\n",
              "    .dataframe tbody tr th {\n",
              "        vertical-align: top;\n",
              "    }\n",
              "\n",
              "    .dataframe thead th {\n",
              "        text-align: right;\n",
              "    }\n",
              "</style>\n",
              "<table border=\"1\" class=\"dataframe\">\n",
              "  <thead>\n",
              "    <tr style=\"text-align: right;\">\n",
              "      <th></th>\n",
              "      <th>ID</th>\n",
              "      <th>Delivery_person_ID</th>\n",
              "      <th>Delivery_person_Age</th>\n",
              "    </tr>\n",
              "  </thead>\n",
              "  <tbody>\n",
              "    <tr>\n",
              "      <th>0</th>\n",
              "      <td>0x4607</td>\n",
              "      <td>INDORES13DEL02</td>\n",
              "      <td>37</td>\n",
              "    </tr>\n",
              "    <tr>\n",
              "      <th>1</th>\n",
              "      <td>0xb379</td>\n",
              "      <td>BANGRES18DEL02</td>\n",
              "      <td>34</td>\n",
              "    </tr>\n",
              "    <tr>\n",
              "      <th>2</th>\n",
              "      <td>0x5d6d</td>\n",
              "      <td>BANGRES19DEL01</td>\n",
              "      <td>23</td>\n",
              "    </tr>\n",
              "    <tr>\n",
              "      <th>3</th>\n",
              "      <td>0x7a6a</td>\n",
              "      <td>COIMBRES13DEL02</td>\n",
              "      <td>38</td>\n",
              "    </tr>\n",
              "    <tr>\n",
              "      <th>4</th>\n",
              "      <td>0x70a2</td>\n",
              "      <td>CHENRES12DEL01</td>\n",
              "      <td>32</td>\n",
              "    </tr>\n",
              "    <tr>\n",
              "      <th>5</th>\n",
              "      <td>0x9bb4</td>\n",
              "      <td>HYDRES09DEL03</td>\n",
              "      <td>22</td>\n",
              "    </tr>\n",
              "    <tr>\n",
              "      <th>6</th>\n",
              "      <td>0x95b4</td>\n",
              "      <td>RANCHIRES15DEL01</td>\n",
              "      <td>33</td>\n",
              "    </tr>\n",
              "    <tr>\n",
              "      <th>7</th>\n",
              "      <td>0x9eb2</td>\n",
              "      <td>MYSRES15DEL02</td>\n",
              "      <td>35</td>\n",
              "    </tr>\n",
              "    <tr>\n",
              "      <th>8</th>\n",
              "      <td>0x1102</td>\n",
              "      <td>HYDRES05DEL02</td>\n",
              "      <td>22</td>\n",
              "    </tr>\n",
              "    <tr>\n",
              "      <th>9</th>\n",
              "      <td>0xcdcd</td>\n",
              "      <td>DEHRES17DEL01</td>\n",
              "      <td>36</td>\n",
              "    </tr>\n",
              "    <tr>\n",
              "      <th>10</th>\n",
              "      <td>0xd987</td>\n",
              "      <td>KOCRES16DEL01</td>\n",
              "      <td>21</td>\n",
              "    </tr>\n",
              "    <tr>\n",
              "      <th>11</th>\n",
              "      <td>0x2784</td>\n",
              "      <td>PUNERES13DEL03</td>\n",
              "      <td>23</td>\n",
              "    </tr>\n",
              "    <tr>\n",
              "      <th>12</th>\n",
              "      <td>0xc8b6</td>\n",
              "      <td>LUDHRES15DEL02</td>\n",
              "      <td>34</td>\n",
              "    </tr>\n",
              "    <tr>\n",
              "      <th>13</th>\n",
              "      <td>0xdb64</td>\n",
              "      <td>KNPRES14DEL02</td>\n",
              "      <td>24</td>\n",
              "    </tr>\n",
              "    <tr>\n",
              "      <th>14</th>\n",
              "      <td>0x3af3</td>\n",
              "      <td>MUMRES15DEL03</td>\n",
              "      <td>29</td>\n",
              "    </tr>\n",
              "    <tr>\n",
              "      <th>15</th>\n",
              "      <td>0x3aab</td>\n",
              "      <td>MYSRES01DEL01</td>\n",
              "      <td>35</td>\n",
              "    </tr>\n",
              "    <tr>\n",
              "      <th>16</th>\n",
              "      <td>0x689b</td>\n",
              "      <td>PUNERES20DEL01</td>\n",
              "      <td>33</td>\n",
              "    </tr>\n",
              "    <tr>\n",
              "      <th>17</th>\n",
              "      <td>0x6f67</td>\n",
              "      <td>HYDRES14DEL01</td>\n",
              "      <td>34</td>\n",
              "    </tr>\n",
              "    <tr>\n",
              "      <th>18</th>\n",
              "      <td>0xc9cf</td>\n",
              "      <td>KOLRES15DEL03</td>\n",
              "      <td>21</td>\n",
              "    </tr>\n",
              "    <tr>\n",
              "      <th>19</th>\n",
              "      <td>0x36b8</td>\n",
              "      <td>PUNERES19DEL02</td>\n",
              "      <td>25</td>\n",
              "    </tr>\n",
              "    <tr>\n",
              "      <th>20</th>\n",
              "      <td>0x5795</td>\n",
              "      <td>RANCHIRES06DEL02</td>\n",
              "      <td>31</td>\n",
              "    </tr>\n",
              "  </tbody>\n",
              "</table>\n",
              "</div>\n",
              "      <button class=\"colab-df-convert\" onclick=\"convertToInteractive('df-52ec6e75-2b8e-48f0-974c-40cf091a60d6')\"\n",
              "              title=\"Convert this dataframe to an interactive table.\"\n",
              "              style=\"display:none;\">\n",
              "        \n",
              "  <svg xmlns=\"http://www.w3.org/2000/svg\" height=\"24px\"viewBox=\"0 0 24 24\"\n",
              "       width=\"24px\">\n",
              "    <path d=\"M0 0h24v24H0V0z\" fill=\"none\"/>\n",
              "    <path d=\"M18.56 5.44l.94 2.06.94-2.06 2.06-.94-2.06-.94-.94-2.06-.94 2.06-2.06.94zm-11 1L8.5 8.5l.94-2.06 2.06-.94-2.06-.94L8.5 2.5l-.94 2.06-2.06.94zm10 10l.94 2.06.94-2.06 2.06-.94-2.06-.94-.94-2.06-.94 2.06-2.06.94z\"/><path d=\"M17.41 7.96l-1.37-1.37c-.4-.4-.92-.59-1.43-.59-.52 0-1.04.2-1.43.59L10.3 9.45l-7.72 7.72c-.78.78-.78 2.05 0 2.83L4 21.41c.39.39.9.59 1.41.59.51 0 1.02-.2 1.41-.59l7.78-7.78 2.81-2.81c.8-.78.8-2.07 0-2.86zM5.41 20L4 18.59l7.72-7.72 1.47 1.35L5.41 20z\"/>\n",
              "  </svg>\n",
              "      </button>\n",
              "      \n",
              "  <style>\n",
              "    .colab-df-container {\n",
              "      display:flex;\n",
              "      flex-wrap:wrap;\n",
              "      gap: 12px;\n",
              "    }\n",
              "\n",
              "    .colab-df-convert {\n",
              "      background-color: #E8F0FE;\n",
              "      border: none;\n",
              "      border-radius: 50%;\n",
              "      cursor: pointer;\n",
              "      display: none;\n",
              "      fill: #1967D2;\n",
              "      height: 32px;\n",
              "      padding: 0 0 0 0;\n",
              "      width: 32px;\n",
              "    }\n",
              "\n",
              "    .colab-df-convert:hover {\n",
              "      background-color: #E2EBFA;\n",
              "      box-shadow: 0px 1px 2px rgba(60, 64, 67, 0.3), 0px 1px 3px 1px rgba(60, 64, 67, 0.15);\n",
              "      fill: #174EA6;\n",
              "    }\n",
              "\n",
              "    [theme=dark] .colab-df-convert {\n",
              "      background-color: #3B4455;\n",
              "      fill: #D2E3FC;\n",
              "    }\n",
              "\n",
              "    [theme=dark] .colab-df-convert:hover {\n",
              "      background-color: #434B5C;\n",
              "      box-shadow: 0px 1px 3px 1px rgba(0, 0, 0, 0.15);\n",
              "      filter: drop-shadow(0px 1px 2px rgba(0, 0, 0, 0.3));\n",
              "      fill: #FFFFFF;\n",
              "    }\n",
              "  </style>\n",
              "\n",
              "      <script>\n",
              "        const buttonEl =\n",
              "          document.querySelector('#df-52ec6e75-2b8e-48f0-974c-40cf091a60d6 button.colab-df-convert');\n",
              "        buttonEl.style.display =\n",
              "          google.colab.kernel.accessAllowed ? 'block' : 'none';\n",
              "\n",
              "        async function convertToInteractive(key) {\n",
              "          const element = document.querySelector('#df-52ec6e75-2b8e-48f0-974c-40cf091a60d6');\n",
              "          const dataTable =\n",
              "            await google.colab.kernel.invokeFunction('convertToInteractive',\n",
              "                                                     [key], {});\n",
              "          if (!dataTable) return;\n",
              "\n",
              "          const docLinkHtml = 'Like what you see? Visit the ' +\n",
              "            '<a target=\"_blank\" href=https://colab.research.google.com/notebooks/data_table.ipynb>data table notebook</a>'\n",
              "            + ' to learn more about interactive tables.';\n",
              "          element.innerHTML = '';\n",
              "          dataTable['output_type'] = 'display_data';\n",
              "          await google.colab.output.renderOutput(dataTable, element);\n",
              "          const docLink = document.createElement('div');\n",
              "          docLink.innerHTML = docLinkHtml;\n",
              "          element.appendChild(docLink);\n",
              "        }\n",
              "      </script>\n",
              "    </div>\n",
              "  </div>\n",
              "  "
            ]
          },
          "metadata": {},
          "execution_count": 22
        }
      ]
    },
    {
      "cell_type": "code",
      "source": [
        "df.loc[0:11,\"Delivery_person_Age\"]"
      ],
      "metadata": {
        "colab": {
          "base_uri": "https://localhost:8080/"
        },
        "id": "nQbNX0Wuvy8A",
        "outputId": "dbb64112-d173-4ecf-d7f6-ee67f31b5179"
      },
      "execution_count": null,
      "outputs": [
        {
          "output_type": "execute_result",
          "data": {
            "text/plain": [
              "0     37\n",
              "1     34\n",
              "2     23\n",
              "3     38\n",
              "4     32\n",
              "5     22\n",
              "6     33\n",
              "7     35\n",
              "8     22\n",
              "9     36\n",
              "10    21\n",
              "11    23\n",
              "Name: Delivery_person_Age, dtype: object"
            ]
          },
          "metadata": {},
          "execution_count": 26
        }
      ]
    },
    {
      "cell_type": "code",
      "source": [
        "df.loc[40:43,[\"Restaurant_latitude\",\"Restaurant_longitude\",\"Delivery_location_latitude\",\"Delivery_location_longitude\"]]"
      ],
      "metadata": {
        "colab": {
          "base_uri": "https://localhost:8080/",
          "height": 173
        },
        "id": "ZL4ANs8SygeA",
        "outputId": "3960e611-0f68-4bc4-d774-09e5169330fe"
      },
      "execution_count": null,
      "outputs": [
        {
          "output_type": "execute_result",
          "data": {
            "text/plain": [
              "    Restaurant_latitude  Restaurant_longitude  Delivery_location_latitude  \\\n",
              "40            12.972532             77.608179                   13.042532   \n",
              "41            13.064181             80.236442                   13.134181   \n",
              "42            19.121999             72.908493                   19.201999   \n",
              "43            21.149569             72.772697                   21.239569   \n",
              "\n",
              "    Delivery_location_longitude  \n",
              "40                    77.678179  \n",
              "41                    80.306442  \n",
              "42                    72.988493  \n",
              "43                    72.862697  "
            ],
            "text/html": [
              "\n",
              "  <div id=\"df-d3f41b9c-02e6-4dd6-b4c4-b5c7bf28a8b4\">\n",
              "    <div class=\"colab-df-container\">\n",
              "      <div>\n",
              "<style scoped>\n",
              "    .dataframe tbody tr th:only-of-type {\n",
              "        vertical-align: middle;\n",
              "    }\n",
              "\n",
              "    .dataframe tbody tr th {\n",
              "        vertical-align: top;\n",
              "    }\n",
              "\n",
              "    .dataframe thead th {\n",
              "        text-align: right;\n",
              "    }\n",
              "</style>\n",
              "<table border=\"1\" class=\"dataframe\">\n",
              "  <thead>\n",
              "    <tr style=\"text-align: right;\">\n",
              "      <th></th>\n",
              "      <th>Restaurant_latitude</th>\n",
              "      <th>Restaurant_longitude</th>\n",
              "      <th>Delivery_location_latitude</th>\n",
              "      <th>Delivery_location_longitude</th>\n",
              "    </tr>\n",
              "  </thead>\n",
              "  <tbody>\n",
              "    <tr>\n",
              "      <th>40</th>\n",
              "      <td>12.972532</td>\n",
              "      <td>77.608179</td>\n",
              "      <td>13.042532</td>\n",
              "      <td>77.678179</td>\n",
              "    </tr>\n",
              "    <tr>\n",
              "      <th>41</th>\n",
              "      <td>13.064181</td>\n",
              "      <td>80.236442</td>\n",
              "      <td>13.134181</td>\n",
              "      <td>80.306442</td>\n",
              "    </tr>\n",
              "    <tr>\n",
              "      <th>42</th>\n",
              "      <td>19.121999</td>\n",
              "      <td>72.908493</td>\n",
              "      <td>19.201999</td>\n",
              "      <td>72.988493</td>\n",
              "    </tr>\n",
              "    <tr>\n",
              "      <th>43</th>\n",
              "      <td>21.149569</td>\n",
              "      <td>72.772697</td>\n",
              "      <td>21.239569</td>\n",
              "      <td>72.862697</td>\n",
              "    </tr>\n",
              "  </tbody>\n",
              "</table>\n",
              "</div>\n",
              "      <button class=\"colab-df-convert\" onclick=\"convertToInteractive('df-d3f41b9c-02e6-4dd6-b4c4-b5c7bf28a8b4')\"\n",
              "              title=\"Convert this dataframe to an interactive table.\"\n",
              "              style=\"display:none;\">\n",
              "        \n",
              "  <svg xmlns=\"http://www.w3.org/2000/svg\" height=\"24px\"viewBox=\"0 0 24 24\"\n",
              "       width=\"24px\">\n",
              "    <path d=\"M0 0h24v24H0V0z\" fill=\"none\"/>\n",
              "    <path d=\"M18.56 5.44l.94 2.06.94-2.06 2.06-.94-2.06-.94-.94-2.06-.94 2.06-2.06.94zm-11 1L8.5 8.5l.94-2.06 2.06-.94-2.06-.94L8.5 2.5l-.94 2.06-2.06.94zm10 10l.94 2.06.94-2.06 2.06-.94-2.06-.94-.94-2.06-.94 2.06-2.06.94z\"/><path d=\"M17.41 7.96l-1.37-1.37c-.4-.4-.92-.59-1.43-.59-.52 0-1.04.2-1.43.59L10.3 9.45l-7.72 7.72c-.78.78-.78 2.05 0 2.83L4 21.41c.39.39.9.59 1.41.59.51 0 1.02-.2 1.41-.59l7.78-7.78 2.81-2.81c.8-.78.8-2.07 0-2.86zM5.41 20L4 18.59l7.72-7.72 1.47 1.35L5.41 20z\"/>\n",
              "  </svg>\n",
              "      </button>\n",
              "      \n",
              "  <style>\n",
              "    .colab-df-container {\n",
              "      display:flex;\n",
              "      flex-wrap:wrap;\n",
              "      gap: 12px;\n",
              "    }\n",
              "\n",
              "    .colab-df-convert {\n",
              "      background-color: #E8F0FE;\n",
              "      border: none;\n",
              "      border-radius: 50%;\n",
              "      cursor: pointer;\n",
              "      display: none;\n",
              "      fill: #1967D2;\n",
              "      height: 32px;\n",
              "      padding: 0 0 0 0;\n",
              "      width: 32px;\n",
              "    }\n",
              "\n",
              "    .colab-df-convert:hover {\n",
              "      background-color: #E2EBFA;\n",
              "      box-shadow: 0px 1px 2px rgba(60, 64, 67, 0.3), 0px 1px 3px 1px rgba(60, 64, 67, 0.15);\n",
              "      fill: #174EA6;\n",
              "    }\n",
              "\n",
              "    [theme=dark] .colab-df-convert {\n",
              "      background-color: #3B4455;\n",
              "      fill: #D2E3FC;\n",
              "    }\n",
              "\n",
              "    [theme=dark] .colab-df-convert:hover {\n",
              "      background-color: #434B5C;\n",
              "      box-shadow: 0px 1px 3px 1px rgba(0, 0, 0, 0.15);\n",
              "      filter: drop-shadow(0px 1px 2px rgba(0, 0, 0, 0.3));\n",
              "      fill: #FFFFFF;\n",
              "    }\n",
              "  </style>\n",
              "\n",
              "      <script>\n",
              "        const buttonEl =\n",
              "          document.querySelector('#df-d3f41b9c-02e6-4dd6-b4c4-b5c7bf28a8b4 button.colab-df-convert');\n",
              "        buttonEl.style.display =\n",
              "          google.colab.kernel.accessAllowed ? 'block' : 'none';\n",
              "\n",
              "        async function convertToInteractive(key) {\n",
              "          const element = document.querySelector('#df-d3f41b9c-02e6-4dd6-b4c4-b5c7bf28a8b4');\n",
              "          const dataTable =\n",
              "            await google.colab.kernel.invokeFunction('convertToInteractive',\n",
              "                                                     [key], {});\n",
              "          if (!dataTable) return;\n",
              "\n",
              "          const docLinkHtml = 'Like what you see? Visit the ' +\n",
              "            '<a target=\"_blank\" href=https://colab.research.google.com/notebooks/data_table.ipynb>data table notebook</a>'\n",
              "            + ' to learn more about interactive tables.';\n",
              "          element.innerHTML = '';\n",
              "          dataTable['output_type'] = 'display_data';\n",
              "          await google.colab.output.renderOutput(dataTable, element);\n",
              "          const docLink = document.createElement('div');\n",
              "          docLink.innerHTML = docLinkHtml;\n",
              "          element.appendChild(docLink);\n",
              "        }\n",
              "      </script>\n",
              "    </div>\n",
              "  </div>\n",
              "  "
            ]
          },
          "metadata": {},
          "execution_count": 29
        }
      ]
    },
    {
      "cell_type": "code",
      "source": [
        "df[\"Order_Date\"] = pd.to_datetime(df[\"Order_Date\"], format=\"%D-%m-%y\")\n",
        "\n",
        "tab1 = df.loc[0:51, \"Order_Date\"].min()\n",
        "\n",
        "tab1_formatada = tab1.strftime(\"%d-%m-%y\")\n",
        "\n",
        "print(\"menor valor:\",tab1_formatada)"
      ],
      "metadata": {
        "colab": {
          "base_uri": "https://localhost:8080/"
        },
        "id": "ciRWzjcw0syx",
        "outputId": "a7d76069-4c73-4fa6-803b-bb69c43d61ea"
      },
      "execution_count": null,
      "outputs": [
        {
          "output_type": "stream",
          "name": "stdout",
          "text": [
            "menor valor: 11-02-22\n"
          ]
        }
      ]
    },
    {
      "cell_type": "code",
      "source": [
        "tab1 = df.loc[0:51,\"Time_Orderd\"]\n",
        "\n",
        "print(\"A menor hora é:\",min(tab1))"
      ],
      "metadata": {
        "colab": {
          "base_uri": "https://localhost:8080/"
        },
        "id": "VFG_YWL90s8n",
        "outputId": "2b310698-17ce-4752-9514-2e7995413e84"
      },
      "execution_count": null,
      "outputs": [
        {
          "output_type": "stream",
          "name": "stdout",
          "text": [
            "A menor hora é: 08:15:00\n"
          ]
        }
      ]
    },
    {
      "cell_type": "code",
      "source": [
        "df.loc[50:70,\"City\"].unique()"
      ],
      "metadata": {
        "colab": {
          "base_uri": "https://localhost:8080/"
        },
        "id": "AJXFLvTN0tBL",
        "outputId": "232b579e-8fd2-4d0e-bebb-51dce4bf4507"
      },
      "execution_count": null,
      "outputs": [
        {
          "output_type": "execute_result",
          "data": {
            "text/plain": [
              "array(['Metropolitian ', 'Urban ', 'Semi-Urban ', 'NaN '], dtype=object)"
            ]
          },
          "metadata": {},
          "execution_count": 50
        }
      ]
    },
    {
      "cell_type": "code",
      "source": [
        "df.loc[50:70,\"Weatherconditions\"].unique()"
      ],
      "metadata": {
        "colab": {
          "base_uri": "https://localhost:8080/"
        },
        "id": "ViXpNB1H0tE3",
        "outputId": "3d29c7d7-32a8-49eb-806c-f1410a576c23"
      },
      "execution_count": null,
      "outputs": [
        {
          "output_type": "execute_result",
          "data": {
            "text/plain": [
              "array(['conditions Fog', 'conditions Stormy', 'conditions Cloudy',\n",
              "       'conditions Sandstorms', 'conditions Sunny', 'conditions Windy'],\n",
              "      dtype=object)"
            ]
          },
          "metadata": {},
          "execution_count": 52
        }
      ]
    },
    {
      "cell_type": "code",
      "source": [
        "df.loc[0:10,\"Road_traffic_density\"].unique()"
      ],
      "metadata": {
        "colab": {
          "base_uri": "https://localhost:8080/"
        },
        "id": "KKLzrhcC0tUK",
        "outputId": "8c803398-9c03-4889-c296-8cd5a4b36f20"
      },
      "execution_count": null,
      "outputs": [
        {
          "output_type": "execute_result",
          "data": {
            "text/plain": [
              "array(['High ', 'Jam ', 'Low ', 'Medium '], dtype=object)"
            ]
          },
          "metadata": {},
          "execution_count": 54
        }
      ]
    },
    {
      "cell_type": "code",
      "source": [
        "df_filtro = df.loc[50:70]\n",
        "\n",
        "old = df_filtro[\"Delivery_person_Age\"].max()\n",
        "\n",
        "oldID = df_filtro.loc[df_filtro[\"Delivery_person_Age\"]== old,\"ID\"]\n",
        "\n",
        "print('Maior idade: ',old, 'pelo ID: ',oldID)\n",
        "\n",
        "\n",
        "\n"
      ],
      "metadata": {
        "colab": {
          "base_uri": "https://localhost:8080/"
        },
        "id": "VFcsuiiU0tcm",
        "outputId": "573c1fe2-80a5-46af-80c0-9a51748d19a2"
      },
      "execution_count": null,
      "outputs": [
        {
          "output_type": "stream",
          "name": "stdout",
          "text": [
            "Maior idade:  39 pelo ID:  56    0xddc5 \n",
            "57    0x8e6c \n",
            "66    0xde72 \n",
            "69    0xa258 \n",
            "Name: ID, dtype: object\n"
          ]
        }
      ]
    },
    {
      "cell_type": "code",
      "source": [
        "df_filtro.loc[50:70]\n",
        "\n",
        "df_ava = df_filtro[\"Delivery_person_Ratings\"].max()\n",
        "\n",
        "ID = df_filtro.loc[df_filtro[\"Delivery_person_Ratings\"]== df_ava,\"ID\"]\n",
        "\n",
        "print(\"O ID de usuario com a maior avaliação é:\",ID,\"com o rating em:\", df_ava)"
      ],
      "metadata": {
        "colab": {
          "base_uri": "https://localhost:8080/"
        },
        "id": "Mqo8SDrmlO9R",
        "outputId": "cd2ff520-c121-4d27-a441-77783f4fea3a"
      },
      "execution_count": null,
      "outputs": [
        {
          "output_type": "stream",
          "name": "stdout",
          "text": [
            "O ID de usuario com a maior avaliação é: 52    0xc1ff \n",
            "63    0xbe80 \n",
            "Name: ID, dtype: object com o rating em: 5\n"
          ]
        }
      ]
    },
    {
      "cell_type": "code",
      "source": [
        "df.loc[0:30,\"Type_of_vehicle\"]\n"
      ],
      "metadata": {
        "colab": {
          "base_uri": "https://localhost:8080/"
        },
        "id": "hCEnbOuBPvql",
        "outputId": "cd5098b9-d0a8-499d-f106-425dc1c5eb14"
      },
      "execution_count": 14,
      "outputs": [
        {
          "output_type": "execute_result",
          "data": {
            "text/plain": [
              "0           motorcycle \n",
              "1              scooter \n",
              "2           motorcycle \n",
              "3           motorcycle \n",
              "4              scooter \n",
              "5           motorcycle \n",
              "6              scooter \n",
              "7           motorcycle \n",
              "8           motorcycle \n",
              "9           motorcycle \n",
              "10          motorcycle \n",
              "11             scooter \n",
              "12          motorcycle \n",
              "13             scooter \n",
              "14    electric_scooter \n",
              "15             scooter \n",
              "16          motorcycle \n",
              "17          motorcycle \n",
              "18          motorcycle \n",
              "19          motorcycle \n",
              "20    electric_scooter \n",
              "21          motorcycle \n",
              "22             scooter \n",
              "23          motorcycle \n",
              "24    electric_scooter \n",
              "25          motorcycle \n",
              "26             scooter \n",
              "27          motorcycle \n",
              "28    electric_scooter \n",
              "29          motorcycle \n",
              "30          motorcycle \n",
              "Name: Type_of_vehicle, dtype: object"
            ]
          },
          "metadata": {},
          "execution_count": 14
        }
      ]
    },
    {
      "cell_type": "code",
      "source": [
        "df.loc[100:120,\"Type_of_order\"].unique()"
      ],
      "metadata": {
        "id": "vqdW4OTcQGbA",
        "colab": {
          "base_uri": "https://localhost:8080/"
        },
        "outputId": "0bea1aae-0b8e-4576-cebd-e0e0a21c8cf3"
      },
      "execution_count": 17,
      "outputs": [
        {
          "output_type": "execute_result",
          "data": {
            "text/plain": [
              "array(['Snack ', 'Meal ', 'Buffet ', 'Drinks '], dtype=object)"
            ]
          },
          "metadata": {},
          "execution_count": 17
        }
      ]
    }
  ]
}